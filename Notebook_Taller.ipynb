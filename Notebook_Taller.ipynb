{
 "cells": [
  {
   "cell_type": "markdown",
   "metadata": {},
   "source": [
    "# Taller de obtención de datos de Twitter con Python\n",
    "\n",
    "En esta taller se explorará el análisis de datos de redes sociales a los que se accede desde Twitter utilizando Python. Se hará uso de la API RESTful de Twitter para acceder a tuits publicos, los cuales pueden ser accedidos por cualquiero otro usario de Twitter.\n",
    "\n",
    "**Requisitos**\n",
    "\n",
    "Para comenzar, debes:\n",
    "\n",
    "* Haber solicitado el modo desarrollador para la cuenta de Twitter.\n",
    "* Haber configurado una app de Twitter.\n",
    "* Haber generado las credenciales de API de la aplicación.\n",
    "* Una vez que hayas hecho estas cosas, ¡estás listo para comenzar a consultar la API de Twitter para ver qué puedes aprender sobre los tweets!\n"
   ]
  },
  {
   "cell_type": "markdown",
   "metadata": {},
   "source": [
    "## Paso 1.\n",
    "Tweepy es una biblioteca que te facilita la obtencion y creacion de tuits desde la cuenta en modo desarrollador.\n",
    "\n",
    "Desacargar e instalar la biblioteca de Tweepy"
   ]
  },
  {
   "cell_type": "code",
   "execution_count": null,
   "metadata": {},
   "outputs": [],
   "source": [
    "#Para instalar la biblioteca necesaria para obtener datos de twitter\n",
    "!pip install tweepy"
   ]
  },
  {
   "cell_type": "markdown",
   "metadata": {},
   "source": [
    "## Paso 2.\n",
    "Otra de las bibliotecas necesarias, sera pandas. Pandas es una biblioteca que ayuda en la visualizacion de datos, permitendo dar salidas en diversos formatos como lo son: tablas y graficas.\n",
    "El siguiente comando se usa para instalar la bilbioteca de pandas."
   ]
  },
  {
   "cell_type": "code",
   "execution_count": null,
   "metadata": {},
   "outputs": [],
   "source": [
    "!pip install pandas"
   ]
  },
  {
   "cell_type": "markdown",
   "metadata": {},
   "source": [
    "## Paso 3\n",
    "Una vez que las bibliotecas fueron descargadas e instaladas en el entorno, es necesario que se importen para su uso"
   ]
  },
  {
   "cell_type": "code",
   "execution_count": 15,
   "metadata": {},
   "outputs": [],
   "source": [
    "import os\n",
    "import tweepy as tw\n",
    "import pandas as pd\n",
    "pd.set_option('display.max_colwidth', 0)\n",
    "pd.set_option('precision', 5)\n",
    "from IPython.display import HTML"
   ]
  },
  {
   "cell_type": "markdown",
   "metadata": {},
   "source": [
    "## Paso 4\n",
    "Para acceder a la API de Twitter, necesitaremos las 4 claves de tu aplicación de Twitter. Estas claves se encuentran en la configuración de la aplicación de Twitter en la pestaña Claves y tokens de acceso. *\n",
    "\n",
    "* clave de consumidor. Ejemplo: **u9lZIFl47s4IL8DIh9EmS4hFT**\n",
    "* clave secreta de consumidor. Ejemplo: **wrZAWHIPN8UM8wTepBEkEo73zyU4YHet5PZQwwSLylUYDaXfUK**\n",
    "* clave de token de acceso. Ejemplo: **755590137476632581-Dye1Bmqcp5TZ0R8VBnNom9GDhT7Ohov**\n",
    "* clave secreta de token de acceso. Ejemplo: **ElmimcIW4fYJtTNtEO62J0g8S36Fj7awZOm1HnBGbMXuX**\n",
    "\n",
    "![llaves de acceso](keys.PNG)\n",
    "\n",
    "Estos valores son los que obtuviste cuando seguiste el manual.\n",
    "\n",
    "Primero necesitarás definir tus claves"
   ]
  },
  {
   "cell_type": "markdown",
   "metadata": {},
   "source": [
    "## Paso 5\n",
    "Lo siguiente sera cargar en memoria dichas claves, para ello será necesario almacenarlas en cuatro diferentes variables"
   ]
  },
  {
   "cell_type": "code",
   "execution_count": 17,
   "metadata": {},
   "outputs": [],
   "source": [
    "#Definicion de las llaves de acceso en variables dentro de Python\n",
    "consumer_key            = ''\n",
    "consumer_secret         = ''\n",
    "access_token            = ''\n",
    "access_token_secret     = ''"
   ]
  },
  {
   "cell_type": "markdown",
   "metadata": {},
   "source": [
    "## Paso 6\n",
    "El siguiente paso que será necesario realizar es el de la autenticacion con el servidor de Twitter.\n",
    "\n",
    "Esta autenticación funciona como si tu manualmente accedieras a twitter con tu usario y contraseña."
   ]
  },
  {
   "cell_type": "code",
   "execution_count": 18,
   "metadata": {},
   "outputs": [],
   "source": [
    "#La autenticacion es almacenada en un objeto que tiene los datos de conexion\n",
    "auth = tw.OAuthHandler(consumer_key, consumer_secret)\n",
    "auth.set_access_token(access_token, access_token_secret)\n",
    "api = tw.API(auth, wait_on_rate_limit=True) #"
   ]
  },
  {
   "cell_type": "markdown",
   "metadata": {},
   "source": [
    "## Paso 7\n",
    "El siguiente paso es probar el funcionamiento\n",
    "\n",
    "Para crear esta consulta, es necesario definir:\n",
    "\n",
    "* Término de búsqueda\n",
    "* La fecha de inicio de su búsqueda\n",
    "\n",
    "Nota: La API de tuiter solo te permitirá acceder a tuits de maximo una semana de antigüedad hasta la fecha."
   ]
  },
  {
   "cell_type": "markdown",
   "metadata": {},
   "source": [
    "Es importante tambien mencionar que en el termino de busqueda pueden ser usados comodines o caracteres especiales para realizar una busqueda mas personalizada. A continuacion proporciona una pagina en donde se muestra una url con los posibles comodines que pueden ser utilizados.\n",
    "\n",
    "https://developer.twitter.com/en/docs/tweets/search/api-reference/get-search-tweets\n",
    "\n",
    "https://developer.twitter.com/en/docs/tweets/search/guides/standard-operators"
   ]
  },
  {
   "cell_type": "code",
   "execution_count": 1,
   "metadata": {},
   "outputs": [],
   "source": [
    "# Se define el termino de busqueda\n",
    "terminos_busqueda = \"gatos OR perros\" + \" -filter:retweets\"\n",
    "\n",
    "# Se define la fecha a partir de cuando se tomaran los tuits en la busqueda\n",
    "fecha = \"2019-11-01\"\n",
    "\n",
    "idioma = \"es\"\n",
    "\n",
    "numero_tuits = 10"
   ]
  },
  {
   "cell_type": "markdown",
   "metadata": {},
   "source": [
    "En el siguiente paso se usara un cursor para buscar tuit por tuit en tuits donde se contenga la palabra de busqueda. Se puede especificar el numero de tuits que se obtendran en total de la busqeuda, especificando un numero en el parametro del metodo .items().\n",
    "\n",
    "Como nota: Tuiter solo te permite obtener 100 tuits por busqueda."
   ]
  },
  {
   "cell_type": "code",
   "execution_count": 20,
   "metadata": {},
   "outputs": [],
   "source": [
    "# Collect tweets\n",
    "tweets = tw.Cursor(api.search_tweets,\n",
    "              q=terminos_busqueda,\n",
    "              lang=idioma,\n",
    "              tweet_mode='extended',\n",
    "              since=fecha).items(numero_tuits)\n"
   ]
  },
  {
   "cell_type": "markdown",
   "metadata": {},
   "source": [
    ".Cursor() returns an object that you can iterate or loop over to access the data collected. Each item in the iterator has various attributes that you can access to get information about each tweet including:\n",
    "\n",
    "El metodo .Cursor() retornará un objeto el cual podrá ser iterado para acceder a los datos recolectados en el paso anterior. Cada vez que da un vuelta, se accedera a varios atriburos para acceder a la informacion de los tuits consultados.\n",
    "\n",
    "Los siguientes datos son los siguientes:\n",
    "\n",
    "* El texto del tuit\n",
    "* Que usuario creó el tuit\n",
    "* La fecha en la que fue enviado\n",
    "* Y mas...\n",
    "\n",
    "El siguiente codigo itera a traves del objeto que contiene los datos de los tuits y su texto asociado a cada uno.\n"
   ]
  },
  {
   "cell_type": "code",
   "execution_count": null,
   "metadata": {},
   "outputs": [],
   "source": [
    "# Recorre el objeto que contiene todos los tuits y los despleiga al usuario\n",
    "\n",
    "users_locs = [[tweet.id, tweet.user.screen_name, tweet.user.location, tweet.full_text, \"ver\"] for tweet in tweets]\n",
    "    \n",
    "tweet_text = pd.DataFrame(data=users_locs, \n",
    "                    columns=[\"ID\", \"Usuario\" ,\"localización\", \"Tuit\", \"ver\"])\n",
    "\n",
    "tweet_text[\"ver\"] = tweet_text['ID'].apply(lambda x: '<a href=\"http://twitter.com/usuario/status/{0}\" target=\"_blank\"> Ver </a>'.format(x))\n",
    "\n",
    "HTML(tweet_text.to_html(escape=False))"
   ]
  },
  {
   "cell_type": "markdown",
   "metadata": {},
   "source": [
    "**¿Quién está tuiteando sobre el termino de busqueda?**\n",
    "\n",
    "Puede acceder a una gran cantidad de información asociada con cada tweet. A continuación se muestra un ejemplo de acceso a los usuarios que envían los tweets relacionados con el termino de busqueda y su localizacion. Tenga en cuenta que el usuario ingresa manualmente las ubicaciones de los usuarios en Twitter.\n",
    "\n",
    "tweet.user.screen_name proporciona el identificador de Twitter del usuario asociado con cada tweet. tweet.user.location proporciona la ubicación proporcionada por el usuario. Puede experimentar con otros elementos disponibles dentro de cada tweet escribiendo tweet. y el nombre del atributo"
   ]
  },
  {
   "cell_type": "markdown",
   "metadata": {},
   "source": [
    "La informacion de los usuarios y las ubicaciones es desplega a continuacion haciendo uso de la biblioteca de python: Pandas"
   ]
  },
  {
   "cell_type": "markdown",
   "metadata": {},
   "source": [
    "Con la biblioteca de Tweepy tambien puede obtener los tuits de un usuario en especifico. En este caso se tiene que pasar como parametro de busqueda el nombre del usuario en la cuenta de tuiter respetando todos los caracteres, y ademas se tieen que especificar el numero de tuits que se quiere obtener de la linea del tiempo del perfil de ese usuario."
   ]
  },
  {
   "cell_type": "code",
   "execution_count": 25,
   "metadata": {},
   "outputs": [],
   "source": [
    "username = \"lopezobrador_\"\n",
    "number_of_tweets = 10"
   ]
  },
  {
   "cell_type": "code",
   "execution_count": 26,
   "metadata": {},
   "outputs": [],
   "source": [
    "tweets = api.user_timeline(screen_name=username, count=number_of_tweets, exclude_replies=True)"
   ]
  },
  {
   "cell_type": "code",
   "execution_count": null,
   "metadata": {},
   "outputs": [],
   "source": [
    "users_locs = [[tweet.id, tweet.text, \"ver\"] for tweet in tweets]\n",
    "    \n",
    "tweet_text = pd.DataFrame(data=users_locs, \n",
    "                    columns=[\"ID\", \"Tuit\", \"ver\"])\n",
    "\n",
    "tweet_text[\"ver\"] = tweet_text['ID'].apply(lambda x: '<a href=\"http://twitter.com/usuario/status/{0}\" target=\"_blank\"> Ver </a>'.format(x))\n",
    "\n",
    "HTML(tweet_text.to_html(escape=False))\n"
   ]
  }
 ],
 "metadata": {
  "kernelspec": {
   "display_name": "Python 3",
   "language": "python",
   "name": "python3"
  },
  "language_info": {
   "codemirror_mode": {
    "name": "ipython",
    "version": 3
   },
   "file_extension": ".py",
   "mimetype": "text/x-python",
   "name": "python",
   "nbconvert_exporter": "python",
   "pygments_lexer": "ipython3",
   "version": "3.7.10"
  },
  "widgets": {
   "application/vnd.jupyter.widget-state+json": {
    "state": {},
    "version_major": 2,
    "version_minor": 0
   }
  }
 },
 "nbformat": 4,
 "nbformat_minor": 2
}
